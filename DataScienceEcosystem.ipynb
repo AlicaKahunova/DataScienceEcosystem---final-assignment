{
 "cells": [
  {
   "cell_type": "markdown",
   "id": "0188385b-18d0-4137-be3b-4d04cac92ad0",
   "metadata": {},
   "source": [
    "# Data Science Tools and Ecosystem"
   ]
  },
  {
   "cell_type": "markdown",
   "id": "7bdfe90b-dd84-4867-8279-c1ade08f5392",
   "metadata": {},
   "source": [
    "In this notebook, Data Science Tools and Ecosystem are summarized."
   ]
  },
  {
   "cell_type": "markdown",
   "id": "acb9c44c-e4b0-4221-99b8-a4c213a1d4b9",
   "metadata": {},
   "source": [
    "**Objectives**:\n",
    "* List of popular languages for Data Scientists\n",
    "* List of popular libraries used by Data Scientists\n",
    "* Data Science Tools\n",
    "* Examples of Evaluating arithmetic expressions in Python"
   ]
  },
  {
   "cell_type": "markdown",
   "id": "a13e3a5d-ee40-4119-939c-ae3aa3943075",
   "metadata": {},
   "source": [
    "Some of the popular languages that Data Scientists use are:\n",
    "1. Python\n",
    "2. R\n",
    "3. SQL\n"
   ]
  },
  {
   "cell_type": "markdown",
   "id": "8308b787-e391-4ce0-bad1-86026712f0e5",
   "metadata": {},
   "source": [
    "Some of the commonly used libraries used by Data Scientists include:\n",
    "* NumPy \n",
    "* Pandas \n",
    "* Matplotlib \n",
    "* Seaborn \n",
    "* SciPy "
   ]
  },
  {
   "cell_type": "markdown",
   "id": "d61c2c1e-b69a-4025-b474-39faa0cf4e56",
   "metadata": {},
   "source": [
    "| Data Science Tools |\n",
    "| ------ |\n",
    "| Jupyter Notebook |\n",
    "| RStudio |\n",
    "| Visual Studio Code |"
   ]
  },
  {
   "cell_type": "markdown",
   "id": "9afbaee9-4d83-4d45-ad65-d8b7e7be13a6",
   "metadata": {},
   "source": [
    "### Below are a few examples of evaluating arithmetic expressions in Python"
   ]
  },
  {
   "cell_type": "code",
   "execution_count": 14,
   "id": "739ecd61-a9ac-4642-aadc-144532b511ba",
   "metadata": {},
   "outputs": [
    {
     "data": {
      "text/plain": [
       "17"
      ]
     },
     "execution_count": 14,
     "metadata": {},
     "output_type": "execute_result"
    }
   ],
   "source": [
    "(3*4)+5\n",
    "#This a simple arithmetic expression to mutiply then add integers"
   ]
  },
  {
   "cell_type": "code",
   "execution_count": 16,
   "id": "44ac6519-5864-4afd-8c85-97cbc2bbdabc",
   "metadata": {},
   "outputs": [
    {
     "data": {
      "text/plain": [
       "3.3333333333333335"
      ]
     },
     "execution_count": 16,
     "metadata": {},
     "output_type": "execute_result"
    }
   ],
   "source": [
    "200/60\n",
    "#This will convert 200 minutes to hours by diving by 60"
   ]
  },
  {
   "cell_type": "markdown",
   "id": "a73e0622-b129-421a-9d83-89716f48e1f2",
   "metadata": {},
   "source": [
    "## Author \n",
    "Alica Kahunova"
   ]
  }
 ],
 "metadata": {
  "kernelspec": {
   "display_name": "Python 3 (ipykernel)",
   "language": "python",
   "name": "python3"
  },
  "language_info": {
   "codemirror_mode": {
    "name": "ipython",
    "version": 3
   },
   "file_extension": ".py",
   "mimetype": "text/x-python",
   "name": "python",
   "nbconvert_exporter": "python",
   "pygments_lexer": "ipython3",
   "version": "3.12.4"
  }
 },
 "nbformat": 4,
 "nbformat_minor": 5
}
